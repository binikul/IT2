{
 "cells": [
  {
   "cell_type": "markdown",
   "metadata": {},
   "source": [
    "## Oppgave 3\n",
    "\n",
    "Listen `biler` inneholder informasjon om de 10 mest solgte bilene i Norge i 2023.\n",
    "\n",
    "> OBS! Kjør kodeblokken under før du begynner å programmere!\n",
    "\n",
    "1. Bruk listen og lag en fin utskrift med informasjon om Tesla Model Y\n",
    "2. Bruk listen og lag en fin utskrift med informasjon om alle bilene på topplisten\n",
    "3. Av bilene som er på topplisten hvor mange solgte biler er av merke Toyota?\n",
    "4. Lag en ordbok som teller antall solgte biler for hvert bilmerke på topplisten\n",
    "5. Tegn et stolpediagram som viser antall solgte biler på topplisten gruppert etter bilmerke"
   ]
  },
  {
   "cell_type": "code",
   "execution_count": 93,
   "metadata": {},
   "outputs": [],
   "source": [
    "biler =  [\n",
    "    {\"bilmerke\": \"Tesla\", \"modell\": \"Model Y\", \"land\": \"USA\", \"antall_solgte\": 23088, \"andel_solgte\": 18.2},\n",
    "    {\"bilmerke\": \"Volkswagen\", \"modell\": \"ID.4\", \"land\": \"Tyskland\", \"antall_solgte\": 6614, \"andel_solgte\": 5.2},\n",
    "    {\"bilmerke\": \"Skoda\", \"modell\": \"Enyaq\", \"land\": \"Tsjekkia\", \"antall_solgte\": 5740, \"andel_solgte\": 4.5},\n",
    "    {\"bilmerke\": \"Toyota\", \"modell\": \"bZ4X\", \"land\": \"Japan\", \"antall_solgte\": 5395, \"andel_solgte\": 4.2},\n",
    "    {\"bilmerke\": \"Volvo\", \"modell\": \"XC40\", \"land\": \"Sverige\", \"antall_solgte\": 5025, \"andel_solgte\": 4.0},\n",
    "    {\"bilmerke\": \"Ford\", \"modell\": \"Mustang Mach-E\", \"land\": \"USA\", \"antall_solgte\": 3792, \"andel_solgte\": 3.0},\n",
    "    {\"bilmerke\": \"Toyota\", \"modell\": \"Yaris\", \"land\": \"Japan\", \"antall_solgte\": 3582, \"andel_solgte\": 2.8},\n",
    "    {\"bilmerke\": \"Toyota\", \"modell\": \"RAV4\", \"land\": \"Japan\", \"antall_solgte\": 3457, \"andel_solgte\": 2.7},\n",
    "    {\"bilmerke\": \"Volkswagen\", \"modell\": \"ID.3\", \"land\": \"Tyskland\", \"antall_solgte\": 3141, \"andel_solgte\": 2.5}\n",
    "]\n",
    "# Kjør denne kodeblokken før du begynner! (shift + enter) / (Trykk på play)"
   ]
  },
  {
   "cell_type": "code",
   "execution_count": 94,
   "metadata": {},
   "outputs": [
    {
     "name": "stdout",
     "output_type": "stream",
     "text": [
      "{'bilmerke': 'Tesla', 'modell': 'Model Y', 'land': 'USA', 'antall_solgte': 23088, 'andel_solgte': 18.2}\n"
     ]
    }
   ],
   "source": [
    "# 1. Bruk ordboken og lag en fin utskrift med informasjon om Tesla Model Y\n",
    "print(biler[0])"
   ]
  },
  {
   "cell_type": "code",
   "execution_count": 95,
   "metadata": {},
   "outputs": [
    {
     "name": "stdout",
     "output_type": "stream",
     "text": [
      "Bilmerke: Tesla , Modell: Model Y, Land: USA, Antall Solgte: 23088, Andel Solgte: 18.2\n",
      "Bilmerke: Volkswagen , Modell: ID.4, Land: Tyskland, Antall Solgte: 6614, Andel Solgte: 5.2\n",
      "Bilmerke: Skoda , Modell: Enyaq, Land: Tsjekkia, Antall Solgte: 5740, Andel Solgte: 4.5\n",
      "Bilmerke: Toyota , Modell: bZ4X, Land: Japan, Antall Solgte: 5395, Andel Solgte: 4.2\n",
      "Bilmerke: Volvo , Modell: XC40, Land: Sverige, Antall Solgte: 5025, Andel Solgte: 4.0\n",
      "Bilmerke: Ford , Modell: Mustang Mach-E, Land: USA, Antall Solgte: 3792, Andel Solgte: 3.0\n",
      "Bilmerke: Toyota , Modell: Yaris, Land: Japan, Antall Solgte: 3582, Andel Solgte: 2.8\n",
      "Bilmerke: Toyota , Modell: RAV4, Land: Japan, Antall Solgte: 3457, Andel Solgte: 2.7\n",
      "Bilmerke: Volkswagen , Modell: ID.3, Land: Tyskland, Antall Solgte: 3141, Andel Solgte: 2.5\n"
     ]
    }
   ],
   "source": [
    "# 2. Bruk listen og lag en fin utskrift med informasjon om alle bilene på topplisten\n",
    "for bil in biler:\n",
    "    print(f\"Bilmerke: {bil['bilmerke']} , Modell: {bil['modell']}, Land: {bil['land']}, Antall Solgte: {(bil['antall_solgte'])}, Andel Solgte: {(bil['andel_solgte'])}\")"
   ]
  },
  {
   "cell_type": "code",
   "execution_count": 96,
   "metadata": {},
   "outputs": [
    {
     "name": "stdout",
     "output_type": "stream",
     "text": [
      "Av alle bildene på topplisten var 5395 av bilene av merket Toyota\n"
     ]
    }
   ],
   "source": [
    "# 3. Av bilene som er på topplisten hvor mange solgte biler var av merke Toyota?\n",
    "solgte = (biler[3][\"antall_solgte\"])\n",
    "\n",
    "\n",
    "print(f\"Av alle bildene på topplisten var {solgte} av bilene av merket Toyota\")\n",
    "    "
   ]
  },
  {
   "cell_type": "code",
   "execution_count": 97,
   "metadata": {},
   "outputs": [
    {
     "name": "stdout",
     "output_type": "stream",
     "text": [
      "Antall biler Tesla har solgt er: 23088\n",
      "Antall biler Volkswagen har solgt er: 9755\n",
      "Antall biler Skoda har solgt er: 5740\n",
      "Antall biler Toyota har solgt er: 12434\n",
      "Antall biler Volvo har solgt er: 5025\n",
      "Antall biler Ford har solgt er: 3792\n"
     ]
    }
   ],
   "source": [
    "# 4. Lag en ordbok som teller antall solgte biler for hvert bilmerke på topplisten\n",
    "solgte_biler = {}\n",
    "\n",
    "for bil in biler:\n",
    "    bilmerke = bil[\"bilmerke\"]\n",
    "    antall_solgte = bil[\"antall_solgte\"]\n",
    "\n",
    "    if bilmerke in solgte_biler:\n",
    "        solgte_biler[bilmerke] += antall_solgte\n",
    "    else:\n",
    "        solgte_biler[bilmerke] = antall_solgte\n",
    "\n",
    "for merke, solgte in solgte_biler.items():\n",
    "    print(f\"Antall biler {merke} har solgt er: {solgte}\")"
   ]
  },
  {
   "cell_type": "code",
   "execution_count": 105,
   "metadata": {},
   "outputs": [
    {
     "data": {
      "text/plain": [
       "([0, 1, 2, 3, 4, 5],\n",
       " [Text(0, 0, 'Tesla'),\n",
       "  Text(1, 0, 'Volkswagen'),\n",
       "  Text(2, 0, 'Skoda'),\n",
       "  Text(3, 0, 'Toyota'),\n",
       "  Text(4, 0, 'Volvo'),\n",
       "  Text(5, 0, 'Ford')])"
      ]
     },
     "execution_count": 105,
     "metadata": {},
     "output_type": "execute_result"
    },
    {
     "data": {
      "image/png": "[encoded data removed]",
      "text/plain": [
       "<Figure size 640x480 with 1 Axes>"
      ]
     },
     "metadata": {},
     "output_type": "display_data"
    }
   ],
   "source": [
    "# 5. Tegn et stolpediagram som viser antall solgte biler på topplisten gruppert etter bilmerke\n",
    "import matplotlib.pyplot as plt\n",
    "x_liste = list(solgte_biler.keys())\n",
    "y_liste = list(solgte_biler.values())\n",
    "plt.bar(x_liste, y_liste)\n",
    "plt.xticks(rotation=90)\n",
    "\n"
   ]
  },
  {
   "cell_type": "markdown",
   "metadata": {},
   "source": [
    "## Oppgave 4\n",
    "\n",
    "1. Åpne filen oscar2024.json med python, og print ordboken til \"Actor in a Leading Role\" (den første prisen)\n",
    "2. Print alle de nominerte filmene\n",
    "3. Hvor mange nominasjoner har filmen \"Barbie\"\n",
    "4. Hvilken film har flest nominasjoner, hvor mange har den?\n",
    "5. Lag en oversikt som presenterer de ti filmene med flest nominasjoner og antall nominasjoner"
   ]
  },
  {
   "cell_type": "code",
   "execution_count": 88,
   "metadata": {},
   "outputs": [
    {
     "name": "stdout",
     "output_type": "stream",
     "text": [
      "<class 'list'>\n"
     ]
    },
    {
     "data": {
      "text/plain": [
       "{'name': 'Actor in a Leading Role',\n",
       " 'nominations': [{'name': 'Bradley Cooper', 'movie': 'Maestro'},\n",
       "  {'name': 'Colman Domingo', 'movie': 'Rustin'},\n",
       "  {'name': 'Paul Giamatti', 'movie': 'The Holdovers'},\n",
       "  {'name': 'Cillian Murphy', 'movie': 'Oppenheimer'},\n",
       "  {'name': 'Jeffrey Wright', 'movie': 'American Fiction'}]}"
      ]
     },
     "execution_count": 88,
     "metadata": {},
     "output_type": "execute_result"
    }
   ],
   "source": [
    "# 1. Åpne filen oscar2024.json med python og print ordboken til \"Actor in a Leading Role\"\n",
    "import json\n",
    "with open(\"oscar2024.json\", encoding=\"utf-8\") as fil:\n",
    "    data = json.load(fil)\n",
    "\n",
    "\n",
    "print(type(data))\n",
    "data[0]\n"
   ]
  },
  {
   "cell_type": "code",
   "execution_count": 89,
   "metadata": {},
   "outputs": [
    {
     "name": "stdout",
     "output_type": "stream",
     "text": [
      "{'name': 'Actor in a Leading Role', 'nominations': [{'name': 'Bradley Cooper', 'movie': 'Maestro'}, {'name': 'Colman Domingo', 'movie': 'Rustin'}, {'name': 'Paul Giamatti', 'movie': 'The Holdovers'}, {'name': 'Cillian Murphy', 'movie': 'Oppenheimer'}, {'name': 'Jeffrey Wright', 'movie': 'American Fiction'}]}\n",
      "{'name': 'Actor in a Supporting Role', 'nominations': [{'name': 'Sterling K. Brown', 'movie': 'American Fiction'}, {'name': 'Robert De Niro', 'movie': 'Killers of the Flower Moon'}, {'name': 'Robert Downey Jr.', 'movie': 'Oppenheimer'}, {'name': 'Ryan Gosling', 'movie': 'Barbie'}, {'name': 'Mark Ruffalo', 'movie': 'Poor Things'}]}\n",
      "{'name': 'Actress in a Leading Role', 'nominations': [{'name': 'Annette Bening', 'movie': 'Nyad'}, {'name': 'Lily Gladstone', 'movie': 'Killers of the Flower Moon'}, {'name': 'Sandra Hüller', 'movie': 'Anatomy of a Fall'}, {'name': 'Carey Mulligan', 'movie': 'Maestro'}, {'name': 'Emma Stone', 'movie': 'Poor Things'}]}\n",
      "{'name': 'Actress in a Supporting Role', 'nominations': [{'name': 'Emily Blunt', 'movie': 'Oppenheimer'}, {'name': 'Danielle Brooks', 'movie': 'The Color Purple'}, {'name': 'America Ferrera', 'movie': 'Barbie'}, {'name': 'Jodie Foster', 'movie': 'Nyad'}, {'name': \"Da'Vine Joy Randolph\", 'movie': 'The Holdovers'}]}\n",
      "{'name': 'Animated Feature Film', 'nominations': [{'name': 'Hayao Miyazaki and Toshio Suzuki', 'movie': 'The Boy and the Heron'}, {'name': 'Peter Sohn and Denise Ream', 'movie': 'Elemental'}, {'name': 'Nick Bruno, Troy Quane, Karen Ryan and Julie Zackary', 'movie': 'Nimona'}, {'name': 'Pablo Berger, Ibon Cormenzana, Ignasi Estapé and Sandra Tapia Díaz', 'movie': 'Robot Dreams'}, {'name': 'Kemp Powers, Justin K. Thompson, Phil Lord, Christopher Miller and Amy Pascal', 'movie': 'Spider-Man: Across the Spider-Verse'}]}\n",
      "{'name': 'Cinematography', 'nominations': [{'name': 'Edward Lachman', 'movie': 'El Conde'}, {'name': 'Rodrigo Prieto', 'movie': 'Killers of the Flower Moon'}, {'name': 'Matthew Libatique', 'movie': 'Maestro'}, {'name': 'Hoyte van Hoytema', 'movie': 'Oppenheimer'}, {'name': 'Robbie Ryan', 'movie': 'Poor Things'}]}\n",
      "{'name': 'Costume Design', 'nominations': [{'name': 'Jacqueline Durran', 'movie': 'Barbie'}, {'name': 'Jacqueline West', 'movie': 'Killers of the Flower Moon'}, {'name': 'Janty Yates and Dave Crossman', 'movie': 'Napoleon'}, {'name': 'Ellen Mirojnick', 'movie': 'Oppenheimer'}, {'name': 'Holly Waddington', 'movie': 'Poor Things'}]}\n",
      "{'name': 'Directing', 'nominations': [{'name': 'Justine Triet', 'movie': 'Anatomy of a Fall'}, {'name': 'Martin Scorsese', 'movie': 'Killers of the Flower Moon'}, {'name': 'Christopher Nolan', 'movie': 'Oppenheimer'}, {'name': 'Yorgos Lanthimos', 'movie': 'Poor Things'}, {'name': 'Jonathan Glazer', 'movie': 'The Zone of Interest'}]}\n",
      "{'name': 'Documentary Feature Film', 'nominations': [{'name': 'Moses Bwayo, Christopher Sharp and John Battsek', 'movie': \"Bobi Wine: The People's President\"}, {'name': 'Kaouther Ben Hania and Nadim Cheikhrouha', 'movie': 'Four Daughters'}, {'name': 'Nisha Pahuja, Cornelia Principe and David Oppenheim', 'movie': 'To Kill a Tiger'}, {'name': 'Mstyslav Chernov, Michelle Mizner and Raney Aronson-Rath', 'movie': '20 Days in Mariupol'}]}\n",
      "{'name': 'Documentary Short Film', 'nominations': [{'name': 'Sheila Nevins and Trish Adlesic', 'movie': 'The ABCs of Book Banning'}, {'name': 'John Hoffman and Christine Turner', 'movie': 'The Barber of Little Rock'}, {'name': 'S. Leo Chiang and Jean Tsien', 'movie': 'Island in Between'}, {'name': 'Ben Proudfoot and Kris Bowers', 'movie': 'The Last Repair Shop'}, {'name': 'Sean Wang and Sam Davis', 'movie': 'Nǎi Nai & Wài Pó'}]}\n",
      "{'name': 'Film Editing', 'nominations': [{'name': 'Laurent Sénéchal', 'movie': 'Anatomy of a Fall'}, {'name': 'Kevin Tent', 'movie': 'The Holdovers'}, {'name': 'Thelma Schoonmaker', 'movie': 'Killers of the Flower Moon'}, {'name': 'Jennifer Lame', 'movie': 'Oppenheimer'}, {'name': 'Yorgos Mavropsaridis', 'movie': 'Poor Things'}]}\n",
      "{'name': 'International Feature Film', 'nominations': [{'name': 'Italy', 'movie': 'Io Capitano'}, {'name': 'Japan', 'movie': 'Perfect Days'}, {'name': 'Spain', 'movie': 'Society of the Snow'}, {'name': 'Germany', 'movie': \"The Teachers' Lounge\"}, {'name': 'United Kingdom', 'movie': 'The Zone of Interest'}]}\n",
      "{'name': 'Best Picture', 'nominations': [{'name': 'Ben LeClair, Nikos Karamigios, Cord Jefferson and Jermaine Johnson', 'movie': 'American Fiction'}, {'name': 'Marie-Ange Luciani and David Thion', 'movie': 'Anatomy of a Fall'}, {'name': 'David Heyman, Margot Robbie, Tom Ackerley and Robbie Brenner', 'movie': 'Barbie'}, {'name': 'Mark Johnson', 'movie': 'The Holdovers'}, {'name': 'Dan Friedkin, Bradley Thomas, Martin Scorsese and Daniel Lupi', 'movie': 'Killers of the Flower Moon'}, {'name': 'Bradley Cooper, Steven Spielberg, Fred Berner, Amy Durning and Kristie Macosko Krieger', 'movie': 'Maestro'}, {'name': 'Emma Thomas, Charles Roven and Christopher Nolan', 'movie': 'Oppenheimer'}, {'name': 'David Hinojosa, Christine Vachon and Pamela Koffler', 'movie': 'Past Lives'}, {'name': 'Ed Guiney, Andrew Lowe, Yorgos Lanthimos and Emma Stone', 'movie': 'Poor Things'}, {'name': 'James Wilson', 'movie': 'The Zone of Interest'}]}\n",
      "{'name': 'Makeup and Hairstyling', 'nominations': [{'name': 'Karen Hartley Thomas, Suzi Battersby and Ashra Kelly-Blue', 'movie': 'Golda'}, {'name': 'Kazu Hiro, Kay Georgiou and Lori McCoy-Bell', 'movie': 'Maestro'}, {'name': 'Luisa Abel', 'movie': 'Oppenheimer'}, {'name': 'Nadia Stacey, Mark Coulier and Josh Weston', 'movie': 'Poor Things'}, {'name': 'Ana López-Puigcerver, David Martí and Montse Ribé', 'movie': 'Society of the Snow'}]}\n",
      "{'name': 'Music (Original Score)', 'nominations': [{'name': 'Laura Karpman', 'movie': 'American Fiction'}, {'name': 'John Williams', 'movie': 'Indiana Jones and the Dial of Destiny'}, {'name': 'Robbie Robertson', 'movie': 'Killers of the Flower Moon'}, {'name': 'Ludwig Göransson', 'movie': 'Oppenheimer'}, {'name': 'Jerskin Fendrix', 'movie': 'Poor Things'}]}\n",
      "{'name': 'Music (Original Song)', 'nominations': [{'name': 'Diane Warren', 'movie': 'The Fire Inside', 'lyricist': 'Diane Warren'}, {'name': 'Mark Ronson and Andrew Wyatt', 'movie': \"I'm Just Ken\", 'lyricist': 'Mark Ronson and Andrew Wyatt'}, {'name': 'Jon Batiste and Dan Wilson', 'movie': 'It Never Went Away', 'lyricist': 'Jon Batiste and Dan Wilson'}, {'name': 'Scott George', 'movie': 'Wahzhazhe (A Song For My People)', 'lyricist': 'Scott George'}, {'name': \"Billie Eilish and Finneas O'Connell\", 'movie': 'What Was I Made For?', 'lyricist': \"Billie Eilish and Finneas O'Connell\"}]}\n",
      "{'name': 'Production Design', 'nominations': [{'name': 'Sarah Greenwood', 'movie': 'Barbie'}, {'name': 'Jack Fisk', 'movie': 'Killers of the Flower Moon'}, {'name': 'Arthur Max', 'movie': 'Napoleon'}, {'name': 'Ruth De Jong', 'movie': 'Oppenheimer'}, {'name': 'James Price and Shona Heath', 'movie': 'Poor Things'}]}\n",
      "{'name': 'Animated Short Film', 'nominations': [{'name': 'Tal Kantor and Amit R. Gicelter', 'movie': 'Letter to a Pig'}, {'name': 'Jerusha Hess and Jared Hess', 'movie': 'Ninety-Five Senses'}, {'name': 'Yegane Moghaddam', 'movie': 'Our Uniform'}, {'name': 'Stéphanie Clément and Marc Rius', 'movie': 'Pachyderme'}, {'name': 'Dave Mullins and Brad Booker', 'movie': 'WAR IS OVER! Inspired by the Music of John & Yoko'}]}\n",
      "{'name': 'Live Action Short Film', 'nominations': [{'name': 'Misan Harriman and Nicky Bentham', 'movie': 'The After'}, {'name': 'Vincent René-Lortie and Samuel Caron', 'movie': 'Invincible'}, {'name': 'Lasse Lyskjær Noer and Christian Norlyk', 'movie': 'Knight of Fortune'}, {'name': 'Nazrin Choudhury and Sara McFarlane', 'movie': 'Red, White and Blue'}, {'name': 'Wes Anderson and Steven Rales', 'movie': 'The Wonderful Story of Henry Sugar'}]}\n",
      "{'name': 'Sound', 'nominations': [{'name': 'Ian Voigt, Erik Aadahl, Ethan Van der Ryn, Tom Ozanich and Dean Zupancic', 'movie': 'The Creator'}, {'name': 'Steven A. Morrow, Richard King, Jason Ruder, Tom Ozanich and Dean Zupancic', 'movie': 'Maestro'}, {'name': 'Chris Munro, James H. Mather, Chris Burdon and Mark Taylor', 'movie': 'Mission: Impossible - Dead Reckoning Part One'}, {'name': \"Willie Burton, Richard King, Gary A. Rizzo and Kevin O'Connell\", 'movie': 'Oppenheimer'}, {'name': 'Tarn Willers and Johnnie Burn', 'movie': 'The Zone of Interest'}]}\n",
      "{'name': 'Visual Effects', 'nominations': [{'name': 'Jay Cooper, Ian Comley, Andrew Roberts and Neil Corbould', 'movie': 'The Creator'}, {'name': 'Takashi Yamazaki, Kiyoko Shibuya, Masaki Takahashi and Tatsuji Nojima', 'movie': 'Godzilla Minus One'}, {'name': 'Stephane Ceretti, Alexis Wajsbrot, Guy Williams and Theo Bialek', 'movie': 'Guardians of the Galaxy Vol. 3'}, {'name': 'Alex Wuttke, Simone Coco, Jeff Sutherland and Neil Corbould', 'movie': 'Mission: Impossible - Dead Reckoning Part One'}, {'name': 'Charley Henley, Luc-Ewen Martin-Fenouillet, Simone Coco and Neil Corbould', 'movie': 'Napoleon'}]}\n",
      "{'name': 'Writing (Adapted Screenplay)', 'nominations': [{'name': 'Cord Jefferson', 'movie': 'American Fiction'}, {'name': 'Greta Gerwig & Noah Baumbach', 'movie': 'Barbie'}, {'name': 'Christopher Nolan', 'movie': 'Oppenheimer'}, {'name': 'Tony McNamara', 'movie': 'Poor Things'}, {'name': 'Jonathan Glazer', 'movie': 'The Zone of Interest'}]}\n",
      "{'name': 'Writing (Original Screenplay)', 'nominations': [{'name': 'Justine Triet and Arthur Harari', 'movie': 'Anatomy of a Fall'}, {'name': 'David Hemingson', 'movie': 'The Holdovers'}, {'name': 'Bradley Cooper & Josh Singer', 'movie': 'Maestro'}, {'name': 'Samy Burch; Story by Samy Burch & Alex Mechanik', 'movie': 'May December'}, {'name': 'Celine Song', 'movie': 'Past Lives'}]}\n"
     ]
    }
   ],
   "source": [
    "# 2. Print alle de nominerte filmene\n",
    "# >  Filmer som er nominert til flere priser kan printes flere ganger\n",
    "\n",
    "for film in data:\n",
    "    if film [\"nominations\"]:\n",
    "        print(film)"
   ]
  },
  {
   "cell_type": "code",
   "execution_count": 90,
   "metadata": {},
   "outputs": [
    {
     "name": "stdout",
     "output_type": "stream",
     "text": [
      "Antall nominasjoner filmen barbie har er 6\n"
     ]
    }
   ],
   "source": [
    "# 3. Hvor mange nominasjoner har filmen \"Barbie\"\n",
    "\n",
    "nominasjoner_barbie = 0\n",
    "for i in data:\n",
    "    film = i['nominations']\n",
    "    for nominasjoner in film:\n",
    "        if (nominasjoner['movie']) == \"Barbie\":\n",
    "            nominasjoner_barbie +=1\n",
    "\n",
    "print(f\"Antall nominasjoner filmen barbie har er {nominasjoner_barbie}\")"
   ]
  },
  {
   "cell_type": "code",
   "execution_count": 103,
   "metadata": {},
   "outputs": [
    {
     "name": "stdout",
     "output_type": "stream",
     "text": [
      "('Oppenheimer', 13)\n"
     ]
    }
   ],
   "source": [
    "# 4. Hvilken film har flest nominasjoner, hvor mange har den?\n",
    "\n",
    "filmer = []\n",
    "for i in data:\n",
    "    film = i['nominations']\n",
    "    for i in film:\n",
    "        filmer.append(i['movie'])\n",
    "\n",
    "antall_nominasjoner = {}\n",
    "for film in filmer:\n",
    "    if film not in antall_nominasjoner:\n",
    "        antall_nominasjoner[film] = 1\n",
    "    else:\n",
    "        antall_nominasjoner[film] += 1     \n",
    "\n",
    "nominasjoner_liste = list(antall_nominasjoner.items())\n",
    "nominasjoner_sortert = sorted(nominasjoner_liste, key=lambda nasjonalitet:nasjonalitet[1], reverse=True)\n",
    "film_med_flest_nominasjoner = nominasjoner_sortert[0]\n",
    "\n",
    "print(film_med_flest_nominasjoner)\n",
    "\n",
    "\n",
    "\n"
   ]
  },
  {
   "cell_type": "code",
   "execution_count": 101,
   "metadata": {},
   "outputs": [
    {
     "name": "stdout",
     "output_type": "stream",
     "text": [
      "Filmen Oppenheimer har 13 nominasjoner\n",
      "Filmen Poor Things har 11 nominasjoner\n",
      "Filmen Killers of the Flower Moon har 9 nominasjoner\n",
      "Filmen Maestro har 7 nominasjoner\n",
      "Filmen Barbie har 6 nominasjoner\n",
      "Filmen The Holdovers har 5 nominasjoner\n",
      "Filmen American Fiction har 5 nominasjoner\n",
      "Filmen Anatomy of a Fall har 5 nominasjoner\n",
      "Filmen The Zone of Interest har 5 nominasjoner\n",
      "Filmen Napoleon har 3 nominasjoner\n"
     ]
    }
   ],
   "source": [
    "# 5. Lag en utskrift som viser de ti filmene med flest nominasjoner og antall nominasjoner\n",
    "\n",
    "for i in nominasjoner_sortert[:10]:\n",
    "    print(f\"Filmen {i[0]} har {i[1]} nominasjoner\")"
   ]
  }
 ],
 "metadata": {
  "kernelspec": {
   "display_name": "Python 3",
   "language": "python",
   "name": "python3"
  },
  "language_info": {
   "codemirror_mode": {
    "name": "ipython",
    "version": 3
   },
   "file_extension": ".py",
   "mimetype": "text/x-python",
   "name": "python",
   "nbconvert_exporter": "python",
   "pygments_lexer": "ipython3",
   "version": "3.9.6"
  }
 },
 "nbformat": 4,
 "nbformat_minor": 2
}
