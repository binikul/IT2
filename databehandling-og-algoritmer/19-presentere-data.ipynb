{
 "cells": [
  {
   "cell_type": "markdown",
   "metadata": {},
   "source": [
    "# 19 - Presentere data\n",
    "\n",
    "## Plan for dagen\n",
    "\n",
    "1. Telling med ordbøker\n",
    "2. Sortere ordbøker\n",
    "3. Plotting\n",
    "4. Nettsider med Flask\n",
    "\n",
    "## Biblioteker\n",
    "\n",
    "I dag skal vi bruke `matplotlib` for å plotte data og `flask` for å presentere data på nettsider.\n",
    "De må installeres.\n",
    "Kjør følgende kommandoe i terminalen i VS Code (Terminal -> New Terminal):\n",
    "\n",
    "```bash\n",
    "# Mac\n",
    "pip3 install matplotlib flask requests\n",
    "\n",
    "# Windows\n",
    "pip install matplotlib flask requests\n",
    "```\n"
   ]
  },
  {
   "cell_type": "markdown",
   "metadata": {},
   "source": [
    "## Telle kategorier\n",
    "\n",
    "- [it2.thorcc.no - Telling med ordbøker](https://it2.thorcc.no/databehandling-og-algoritmer/lokker-lister-og-ordboker#eksempel-telling-med-ordb%C3%B8ker)"
   ]
  },
  {
   "cell_type": "markdown",
   "metadata": {},
   "source": [
    "### Eksempel 1: Formel 1-sjåfører\n",
    "\n",
    "**Oppgave**: lag en oversikt som viser antall sjåfører som har de ulike nasjonalitetene i Formel 1-sirkuset"
   ]
  },
  {
   "cell_type": "code",
   "execution_count": 89,
   "metadata": {},
   "outputs": [],
   "source": [
    "f1_sjåfører = [\n",
    "    {\"navn\": \"Lewis Hamilton\", \"nasjonalitet\": \"britisk\", \"team\": \"Mercedes\", \"bilnummer\": 44, \"bilde\": \"https://upload.wikimedia.org/wikipedia/commons/thumb/1/1e/Lewis_Hamilton_2016_Malaysia_2.jpg/220px-Lewis_Hamilton_2016_Malaysia_2.jpg\"},\n",
    "    {\"navn\": \"Max Verstappen\", \"nasjonalitet\": \"nederlandsk\", \"team\": \"Red Bull Racing\", \"bilnummer\": 33, \"bilde\": \"https://upload.wikimedia.org/wikipedia/commons/thumb/2/2c/Max_Verstappen_2017_Malaysia_2.jpg/220px-Max_Verstappen_2017_Malaysia_2.jpg\"},\n",
    "    {\"navn\": \"Valtteri Bottas\", \"nasjonalitet\": \"finsk\", \"team\": \"Mercedes\", \"bilnummer\": 77, \"bilde\": \"https://upload.wikimedia.org/wikipedia/commons/thumb/5/5f/Valtteri_Bottas_2019_Australia_2.jpg/220px-Valtteri_Bottas_2019_Australia_2.jpg\"},\n",
    "    {\"navn\": \"Sergio Perez\", \"nasjonalitet\": \"meksikansk\", \"team\": \"Red Bull Racing\", \"bilnummer\": 11, \"bilde\": \"https://upload.wikimedia.org/wikipedia/commons/thumb/4/4d/Sergio_Perez_2019_Australia_2.jpg/220px-Sergio_Perez_2019_Australia_2.jpg\"},\n",
    "    {\"navn\": \"Lando Norris\", \"nasjonalitet\": \"britisk\", \"team\": \"McLaren\", \"bilnummer\": 4, \"bilde\": \"https://upload.wikimedia.org/wikipedia/commons/thumb/3/3e/Lando_Norris_2019_Australia_2.jpg/220px-Lando_Norris_2019_Australia_2.jpg\"},\n",
    "    {\"navn\": \"Charles Leclerc\", \"nasjonalitet\": \"monégaskisk\", \"team\": \"Ferrari\", \"bilnummer\": 16, \"bilde\": \"https://upload.wikimedia.org/wikipedia/commons/thumb/5/5a/Charles_Leclerc_2019_Australia_2.jpg/220px-Charles_Leclerc_2019_Australia_2.jpg\"},\n",
    "    {\"navn\": \"Carlos Sainz\", \"nasjonalitet\": \"spansk\", \"team\": \"Ferrari\", \"bilnummer\": 55, \"bilde\": \"https://upload.wikimedia.org/wikipedia/commons/thumb/3/3f/Carlos_Sainz_Jr._2019_Australia_2.jpg/220px-Carlos_Sainz_Jr._2019_Australia_2.jpg\"},\n",
    "    {\"navn\": \"Daniel Ricciardo\", \"nasjonalitet\": \"australsk\", \"team\": \"McLaren\", \"bilnummer\": 3, \"bilde\": \"https://upload.wikimedia.org/wikipedia/commons/thumb/5/5f/Daniel_Ricciardo_2019_Australia_2.jpg/220px-Daniel_Ricciardo_2019_Australia_2.jpg\"},\n",
    "    {\"navn\": \"Sebastian Vettel\", \"nasjonalitet\": \"tysk\", \"team\": \"Aston Martin\", \"bilnummer\": 5, \"bilde\": \"https://upload.wikimedia.org/wikipedia/commons/thumb/8/8c/Sebastian_Vettel_2019_Australia_2.jpg/220px-Sebastian_Vettel_2019_Australia_2.jpg\"},\n",
    "    {\"navn\": \"Fernando Alonso\", \"nasjonalitet\": \"spansk\", \"team\": \"Alpine\", \"bilnummer\": 14, \"bilde\": \"https://upload.wikimedia.org/wikipedia/commons/thumb/7/7c/Fernando_Alonso_2019_Australia_2.jpg/220px-Fernando_Alonso_2019_Australia_2.jpg\"},\n",
    "    {\"navn\": \"Esteban Ocon\", \"nasjonalitet\": \"fransk\", \"team\": \"Alpine\", \"bilnummer\": 31, \"bilde\": \"https://upload.wikimedia.org/wikipedia/commons/thumb/5/5c/Esteban_Ocon_2019_Australia_2.jpg/220px-Esteban_Ocon_2019_Australia_2.jpg\"},\n",
    "    {\"navn\": \"Pierre Gasly\", \"nasjonalitet\": \"fransk\", \"team\": \"AlphaTauri\", \"bilnummer\": 10, \"bilde\": \"https://upload.wikimedia.org/wikipedia/commons/thumb/8/8c/Pierre_Gasly_2019_Australia_2.jpg/220px-Pierre_Gasly_2019_Australia_2.jpg\"},\n",
    "    {\"navn\": \"Yuki Tsunoda\", \"nasjonalitet\": \"japansk\", \"team\": \"AlphaTauri\", \"bilnummer\": 22, \"bilde\": \"https://upload.wikimedia.org/wikipedia/commons/thumb/7/7e/Yuki_Tsunoda_2019_Australia_2.jpg/220px-Yuki_Tsunoda_2019_Australia_2.jpg\"},\n",
    "    {\"navn\": \"Lance Stroll\", \"nasjonalitet\": \"canadisk\", \"team\": \"Aston Martin\", \"bilnummer\": 18, \"bilde\": \"https://upload.wikimedia.org/wikipedia/commons/thumb/6/6d/Lance_Stroll_2019_Australia_2.jpg/220px-Lance_Stroll_2019_Australia_2.jpg\"},\n",
    "    {\"navn\": \"George Russell\", \"nasjonalitet\": \"britisk\", \"team\": \"Williams\", \"bilnummer\": 63, \"bilde\": \"https://upload.wikimedia.org/wikipedia/commons/thumb/4/4a/George_Russell_2019_Australia_2.jpg/220px-George_Russell_2019_Australia_2.jpg\"},\n",
    "    {\"navn\": \"Nicholas Latifi\", \"nasjonalitet\": \"canadisk\", \"team\": \"Williams\", \"bilnummer\": 6, \"bilde\": \"https://upload.wikimedia.org/wikipedia/commons/thumb/9/9d/Nicholas_Latifi_2019_Australia_2.jpg/220px-Nicholas_Latifi_2019_Australia_2.jpg\"},\n",
    "    {\"navn\": \"Mick Schumacher\", \"nasjonalitet\": \"tysk\", \"team\": \"Haas\", \"bilnummer\": 47, \"bilde\": \"https://upload.wikimedia.org/wikipedia/commons/thumb/5/5c/Mick_Schumacher_2019_Australia_2.jpg/220px-Mick_Schumacher_2019_Australia_2.jpg\"},\n",
    "    {\"navn\": \"Nikita Mazepin\", \"nasjonalitet\": \"russisk\", \"team\": \"Haas\", \"bilnummer\": 9, \"bilde\": \"https://upload.wikimedia.org/wikipedia/commons/thumb/9/9c/Nikita_Mazepin_2019_Australia_2.jpg/220px-Nikita_Mazepin_2019_Australia_2.jpg\"},\n",
    "    {\"navn\": \"Robert Kubica\", \"nasjonalitet\": \"polsk\", \"team\": \"Alfa Romeo Racing\", \"bilnummer\": 88, \"bilde\": \"https://upload.wikimedia.org/wikipedia/commons/thumb/3/3e/Robert_Kubica_2019_Australia_2.jpg/220px-Robert_Kubica_2019_Australia_2.jpg\"},\n",
    "    {\"navn\": \"Antonio Giovinazzi\", \"nasjonalitet\": \"italiensk\", \"team\": \"Alfa Romeo Racing\", \"bilnummer\": 99, \"bilde\": \"https://upload.wikimedia.org/wikipedia/commons/thumb/9/9e/Antonio_Giovinazzi_2019_Australia_2.jpg/220px-Antonio_Giovinazzi_2019_Australia_2.jpg\"}\n",
    "]"
   ]
  },
  {
   "cell_type": "code",
   "execution_count": 90,
   "metadata": {},
   "outputs": [
    {
     "name": "stdout",
     "output_type": "stream",
     "text": [
      "finsk\n",
      "Navn: Lewis Hamilton, Nasjonalitet: britisk\n",
      "Navn: Max Verstappen, Nasjonalitet: nederlandsk\n",
      "Navn: Valtteri Bottas, Nasjonalitet: finsk\n",
      "Navn: Sergio Perez, Nasjonalitet: meksikansk\n",
      "Navn: Lando Norris, Nasjonalitet: britisk\n",
      "Navn: Charles Leclerc, Nasjonalitet: monégaskisk\n",
      "Navn: Carlos Sainz, Nasjonalitet: spansk\n",
      "Navn: Daniel Ricciardo, Nasjonalitet: australsk\n",
      "Navn: Sebastian Vettel, Nasjonalitet: tysk\n",
      "Navn: Fernando Alonso, Nasjonalitet: spansk\n",
      "Navn: Esteban Ocon, Nasjonalitet: fransk\n",
      "Navn: Pierre Gasly, Nasjonalitet: fransk\n",
      "Navn: Yuki Tsunoda, Nasjonalitet: japansk\n",
      "Navn: Lance Stroll, Nasjonalitet: canadisk\n",
      "Navn: George Russell, Nasjonalitet: britisk\n",
      "Navn: Nicholas Latifi, Nasjonalitet: canadisk\n",
      "Navn: Mick Schumacher, Nasjonalitet: tysk\n",
      "Navn: Nikita Mazepin, Nasjonalitet: russisk\n",
      "Navn: Robert Kubica, Nasjonalitet: polsk\n",
      "Navn: Antonio Giovinazzi, Nasjonalitet: italiensk\n",
      "Antall_briter: 3\n"
     ]
    }
   ],
   "source": [
    "# print valtteri bottas nasjonalitet\n",
    "print(f1_sjåfører[2]['nasjonalitet'])\n",
    " \n",
    "# navn og nasjonalitet på alle sjåførene i listen\n",
    "antall_briter = 0\n",
    "for sjåfør in f1_sjåfører:\n",
    "    print(f\"Navn: {sjåfør['navn']}, Nasjonalitet: {sjåfør['nasjonalitet']}\")\n",
    "    if sjåfør['nasjonalitet'] == 'britisk':\n",
    "        antall_briter += 1\n",
    "\n",
    "print (f\"Antall_briter: {antall_briter}\")\n",
    " "
   ]
  },
  {
   "cell_type": "code",
   "execution_count": 91,
   "metadata": {},
   "outputs": [
    {
     "data": {
      "text/plain": [
       "{'britisk': 3,\n",
       " 'nederlandsk': 1,\n",
       " 'finsk': 1,\n",
       " 'meksikansk': 1,\n",
       " 'monégaskisk': 1,\n",
       " 'spansk': 2,\n",
       " 'australsk': 1,\n",
       " 'tysk': 2,\n",
       " 'fransk': 2,\n",
       " 'japansk': 1,\n",
       " 'canadisk': 2,\n",
       " 'russisk': 1,\n",
       " 'polsk': 1,\n",
       " 'italiensk': 1}"
      ]
     },
     "execution_count": 91,
     "metadata": {},
     "output_type": "execute_result"
    }
   ],
   "source": [
    "# Telling av kategorier med en ordbok\n",
    "antall_nasjonaliteter = {}\n",
    "\n",
    "for sjåfør in f1_sjåfører:\n",
    "    nasjonalitet = sjåfør['nasjonalitet']\n",
    "    if nasjonalitet not in antall_nasjonaliteter:\n",
    "        antall_nasjonaliteter[nasjonalitet] = 1\n",
    "    else:\n",
    "        antall_nasjonaliteter[nasjonalitet] += 1\n",
    "\n",
    "antall_nasjonaliteter\n",
    "                      "
   ]
  },
  {
   "cell_type": "markdown",
   "metadata": {},
   "source": [
    "### Eksempel 2: Land\n",
    "\n",
    "**Oppgave 1**: lag en oversikt som viser antall land i de ulike verdensdelene  \n",
    "**Oppgave 2**: lag en oversikt som viser språk og antall land som har språket som offisielt språk."
   ]
  },
  {
   "cell_type": "code",
   "execution_count": 45,
   "metadata": {},
   "outputs": [],
   "source": [
    "land_info = [\n",
    "    {\"land\": \"Kina\", \"hovedstad\": \"Beijing\", \"befolkning\": 1410000000, \"språk\": [\"Mandarin\"]},\n",
    "    {\"land\": \"India\", \"hovedstad\": \"New Delhi\", \"befolkning\": 1390000000, \"språk\": [\"Hindi\", \"Engelsk\"]},\n",
    "    {\"land\": \"USA\", \"hovedstad\": \"Washington, D.C.\", \"befolkning\": 331000000, \"språk\": [\"Engelsk\"]},\n",
    "    {\"land\": \"Indonesia\", \"hovedstad\": \"Jakarta\", \"befolkning\": 273000000, \"språk\": [\"Indonesisk\"]},\n",
    "    {\"land\": \"Pakistan\", \"hovedstad\": \"Islamabad\", \"befolkning\": 225000000, \"språk\": [\"Urdu\", \"Engelsk\"]},\n",
    "    {\"land\": \"Brasil\", \"hovedstad\": \"Brasília\", \"befolkning\": 213000000, \"språk\": [\"Portugisisk\"]},\n",
    "    {\"land\": \"Nigeria\", \"hovedstad\": \"Abuja\", \"befolkning\": 211000000, \"språk\": [\"Engelsk\"]},\n",
    "    {\"land\": \"Bangladesh\", \"hovedstad\": \"Dhaka\", \"befolkning\": 166000000, \"språk\": [\"Bengali\"]},\n",
    "    {\"land\": \"Russland\", \"hovedstad\": \"Moskva\", \"befolkning\": 146000000, \"språk\": [\"Russisk\"]},\n",
    "    {\"land\": \"Mexico\", \"hovedstad\": \"Mexico City\", \"befolkning\": 128000000, \"språk\": [\"Spansk\"]},\n",
    "    {\"land\": \"Japan\", \"hovedstad\": \"Tokyo\", \"befolkning\": 125000000, \"språk\": [\"Japansk\"]},\n",
    "    {\"land\": \"Etiopia\", \"hovedstad\": \"Addis Ababa\", \"befolkning\": 118000000, \"språk\": [\"Amharisk\"]},\n",
    "    {\"land\": \"Filippinene\", \"hovedstad\": \"Manila\", \"befolkning\": 113000000, \"språk\": [\"Filippinsk\"]},\n",
    "    {\"land\": \"Egypt\", \"hovedstad\": \"Kairo\", \"befolkning\": 104000000, \"språk\": [\"Arabisk\"]},\n",
    "    {\"land\": \"Vietnam\", \"hovedstad\": \"Hanoi\", \"befolkning\": 97400000, \"språk\": [\"Vietnamesisk\"]},\n",
    "    {\"land\": \"DR Kongo\", \"hovedstad\": \"Kinshasa\", \"befolkning\": 90000000, \"språk\": [\"Fransk\"]},\n",
    "    {\"land\": \"Turkey\", \"hovedstad\": \"Ankara\", \"befolkning\": 83700000, \"språk\": [\"Tyrkisk\"]},\n",
    "    {\"land\": \"Iran\", \"hovedstad\": \"Teheran\", \"befolkning\": 83700000, \"språk\": [\"Persisk\"]},\n",
    "    {\"land\": \"Tyskland\", \"hovedstad\": \"Berlin\", \"befolkning\": 83000000, \"språk\": [\"Tysk\"]},\n",
    "    {\"land\": \"Thailand\", \"hovedstad\": \"Bangkok\", \"befolkning\": 70000000, \"språk\": [\"Thai\"]},\n",
    "    {\"land\": \"Frankrike\", \"hovedstad\": \"Paris\", \"befolkning\": 67000000, \"språk\": [\"Fransk\"]},\n",
    "    {\"land\": \"Storbritannia\", \"hovedstad\": \"London\", \"befolkning\": 67000000, \"språk\": [\"Engelsk\"]},\n",
    "    {\"land\": \"Italia\", \"hovedstad\": \"Roma\", \"befolkning\": 60300000, \"språk\": [\"Italiensk\"]},\n",
    "    {\"land\": \"Sør-Afrika\", \"hovedstad\": \"Pretoria, Cape Town, Bloemfontein\", \"befolkning\": 60000000,\n",
    "     \"språk\": [\"Afrikaans\", \"Engelsk\", \"isiNdebele\", \"isiXhosa\", \"isiZulu\", \"sesotho\", \"Setswana\", \"siSwati\", \"Tshivenda\", \"Xitsonga\"]},\n",
    "    {\"land\": \"Myanmar\", \"hovedstad\": \"Naypyidaw\", \"befolkning\": 54400000, \"språk\": [\"Burmese\"]},\n",
    "    {\"land\": \"Sør-Korea\", \"hovedstad\": \"Seoul\", \"befolkning\": 51700000, \"språk\": [\"Koreansk\"]},\n",
    "    {\"land\": \"Colombia\", \"hovedstad\": \"Bogotá\", \"befolkning\": 50300000, \"språk\": [\"Spansk\"]},\n",
    "    {\"land\": \"Kenya\", \"hovedstad\": \"Nairobi\", \"befolkning\": 49000000, \"språk\": [\"Swahili\", \"Engelsk\"]},\n",
    "    {\"land\": \"Spania\", \"hovedstad\": \"Madrid\", \"befolkning\": 47000000, \"språk\": [\"Spansk\"]},\n",
    "    {\"land\": \"Argentina\", \"hovedstad\": \"Buenos Aires\", \"befolkning\": 45000000, \"språk\": [\"Spansk\"]},\n",
    "    {\"land\": \"Thailand\", \"hovedstad\": \"Bangkok\", \"befolkning\": 70000000, \"språk\": [\"Thai\"], \"verdensdel\": \"Asia\"},\n",
    "    {\"land\": \"Frankrike\", \"hovedstad\": \"Paris\", \"befolkning\": 67000000, \"språk\": [\"Fransk\"], \"verdensdel\": \"Europa\"},\n",
    "    {\"land\": \"Storbritannia\", \"hovedstad\": \"London\", \"befolkning\": 67000000, \"språk\": [\"Engelsk\"], \"verdensdel\": \"Europa\"},\n",
    "    {\"land\": \"Italia\", \"hovedstad\": \"Roma\", \"befolkning\": 60300000, \"språk\": [\"Italiensk\"], \"verdensdel\": \"Europa\"},\n",
    "    {\"land\": \"Sør-Afrika\", \"hovedstad\": \"Pretoria, Cape Town, Bloemfontein\", \"befolkning\": 60000000,\n",
    "     \"språk\": [\"Afrikaans\", \"Engelsk\", \"isiNdebele\", \"isiXhosa\", \"isiZulu\", \"sesotho\", \"Setswana\", \"siSwati\", \"Tshivenda\", \"Xitsonga\"], \"verdensdel\": \"Afrika\"},\n",
    "    {\"land\": \"Myanmar\", \"hovedstad\": \"Naypyidaw\", \"befolkning\": 54400000, \"språk\": [\"Burmese\"], \"verdensdel\": \"Asia\"},\n",
    "    {\"land\": \"Sør-Korea\", \"hovedstad\": \"Seoul\", \"befolkning\": 51700000, \"språk\": [\"Koreansk\"], \"verdensdel\": \"Asia\"},\n",
    "    {\"land\": \"Colombia\", \"hovedstad\": \"Bogotá\", \"befolkning\": 50300000, \"språk\": [\"Spansk\"], \"verdensdel\": \"Sør-Amerika\"},\n",
    "    {\"land\": \"Kenya\", \"hovedstad\": \"Nairobi\", \"befolkning\": 49000000, \"språk\": [\"Swahili\", \"Engelsk\"], \"verdensdel\": \"Afrika\"},\n",
    "    {\"land\": \"Spania\", \"hovedstad\": \"Madrid\", \"befolkning\": 47000000, \"språk\": [\"Spansk\"], \"verdensdel\": \"Europa\"},\n",
    "    {\"land\": \"Argentina\", \"hovedstad\": \"Buenos Aires\", \"befolkning\": 45000000, \"språk\": [\"Spansk\"], \"verdensdel\": \"Sør-Amerika\"},\n",
    "]"
   ]
  },
  {
   "cell_type": "code",
   "execution_count": 32,
   "metadata": {},
   "outputs": [
    {
     "data": {
      "text/plain": [
       "{'Asia': 3, 'Europa': 4, 'Afrika': 2, 'Sør-Amerika': 2}"
      ]
     },
     "execution_count": 32,
     "metadata": {},
     "output_type": "execute_result"
    }
   ],
   "source": [
    "# Lag en ordbok som inneholder verdensdeler og antall land som har den verdensdelen\n",
    "\n",
    "land_info = [\n",
    "             \n",
    "    {\"land\": \"Thailand\", \"hovedstad\": \"Bangkok\", \"befolkning\": 70000000, \"språk\": [\"Thai\"], \"verdensdel\": \"Asia\"},\n",
    "    {\"land\": \"Frankrike\", \"hovedstad\": \"Paris\", \"befolkning\": 67000000, \"språk\": [\"Fransk\"], \"verdensdel\": \"Europa\"},\n",
    "    {\"land\": \"Storbritannia\", \"hovedstad\": \"London\", \"befolkning\": 67000000, \"språk\": [\"Engelsk\"], \"verdensdel\": \"Europa\"},\n",
    "    {\"land\": \"Italia\", \"hovedstad\": \"Roma\", \"befolkning\": 60300000, \"språk\": [\"Italiensk\"], \"verdensdel\": \"Europa\"},\n",
    "    {\"land\": \"Sør-Afrika\", \"hovedstad\": \"Pretoria, Cape Town, Bloemfontein\", \"befolkning\": 60000000,\n",
    "     \"språk\": [\"Afrikaans\", \"Engelsk\", \"isiNdebele\", \"isiXhosa\", \"isiZulu\", \"sesotho\", \"Setswana\", \"siSwati\", \"Tshivenda\", \"Xitsonga\"], \"verdensdel\": \"Afrika\"},\n",
    "    {\"land\": \"Myanmar\", \"hovedstad\": \"Naypyidaw\", \"befolkning\": 54400000, \"språk\": [\"Burmese\"], \"verdensdel\": \"Asia\"},\n",
    "    {\"land\": \"Sør-Korea\", \"hovedstad\": \"Seoul\", \"befolkning\": 51700000, \"språk\": [\"Koreansk\"], \"verdensdel\": \"Asia\"},\n",
    "    {\"land\": \"Colombia\", \"hovedstad\": \"Bogotá\", \"befolkning\": 50300000, \"språk\": [\"Spansk\"], \"verdensdel\": \"Sør-Amerika\"},\n",
    "    {\"land\": \"Kenya\", \"hovedstad\": \"Nairobi\", \"befolkning\": 49000000, \"språk\": [\"Swahili\", \"Engelsk\"], \"verdensdel\": \"Afrika\"},\n",
    "    {\"land\": \"Spania\", \"hovedstad\": \"Madrid\", \"befolkning\": 47000000, \"språk\": [\"Spansk\"], \"verdensdel\": \"Europa\"},\n",
    "    {\"land\": \"Argentina\", \"hovedstad\": \"Buenos Aires\", \"befolkning\": 45000000, \"språk\": [\"Spansk\"], \"verdensdel\": \"Sør-Amerika\"},\n",
    "]\n",
    "\n",
    "antall_verdensdeler = {}\n",
    "\n",
    "for land in land_info:\n",
    "    verdensdel = land['verdensdel']\n",
    "    if verdensdel not in antall_verdensdeler:\n",
    "        antall_verdensdeler[verdensdel] = 1\n",
    "    else:\n",
    "        antall_verdensdeler[verdensdel] += 1\n",
    "\n",
    "antall_verdensdeler"
   ]
  },
  {
   "cell_type": "code",
   "execution_count": 50,
   "metadata": {},
   "outputs": [
    {
     "name": "stdout",
     "output_type": "stream",
     "text": [
      "['Mandarin']\n",
      "['Hindi', 'Engelsk']\n",
      "['Engelsk']\n",
      "['Indonesisk']\n",
      "['Urdu', 'Engelsk']\n",
      "['Portugisisk']\n",
      "['Engelsk']\n",
      "['Bengali']\n",
      "['Russisk']\n",
      "['Spansk']\n",
      "['Japansk']\n",
      "['Amharisk']\n",
      "['Filippinsk']\n",
      "['Arabisk']\n",
      "['Vietnamesisk']\n",
      "['Fransk']\n",
      "['Tyrkisk']\n",
      "['Persisk']\n",
      "['Tysk']\n",
      "['Thai']\n",
      "['Fransk']\n",
      "['Engelsk']\n",
      "['Italiensk']\n",
      "['Afrikaans', 'Engelsk', 'isiNdebele', 'isiXhosa', 'isiZulu', 'sesotho', 'Setswana', 'siSwati', 'Tshivenda', 'Xitsonga']\n",
      "['Burmese']\n",
      "['Koreansk']\n",
      "['Spansk']\n",
      "['Swahili', 'Engelsk']\n",
      "['Spansk']\n",
      "['Spansk']\n",
      "['Thai']\n",
      "['Fransk']\n",
      "['Engelsk']\n",
      "['Italiensk']\n",
      "['Afrikaans', 'Engelsk', 'isiNdebele', 'isiXhosa', 'isiZulu', 'sesotho', 'Setswana', 'siSwati', 'Tshivenda', 'Xitsonga']\n",
      "['Burmese']\n",
      "['Koreansk']\n",
      "['Spansk']\n",
      "['Swahili', 'Engelsk']\n",
      "['Spansk']\n",
      "['Spansk']\n"
     ]
    },
    {
     "data": {
      "text/plain": [
       "{'Mandarin': 1,\n",
       " 'Hindi': 1,\n",
       " 'Engelsk': 10,\n",
       " 'Indonesisk': 1,\n",
       " 'Urdu': 1,\n",
       " 'Portugisisk': 1,\n",
       " 'Bengali': 1,\n",
       " 'Russisk': 1,\n",
       " 'Spansk': 7,\n",
       " 'Japansk': 1,\n",
       " 'Amharisk': 1,\n",
       " 'Filippinsk': 1,\n",
       " 'Arabisk': 1,\n",
       " 'Vietnamesisk': 1,\n",
       " 'Fransk': 3,\n",
       " 'Tyrkisk': 1,\n",
       " 'Persisk': 1,\n",
       " 'Tysk': 1,\n",
       " 'Thai': 2,\n",
       " 'Italiensk': 2,\n",
       " 'Afrikaans': 2,\n",
       " 'isiNdebele': 2,\n",
       " 'isiXhosa': 2,\n",
       " 'isiZulu': 2,\n",
       " 'sesotho': 2,\n",
       " 'Setswana': 2,\n",
       " 'siSwati': 2,\n",
       " 'Tshivenda': 2,\n",
       " 'Xitsonga': 2,\n",
       " 'Burmese': 2,\n",
       " 'Koreansk': 2,\n",
       " 'Swahili': 2}"
      ]
     },
     "execution_count": 50,
     "metadata": {},
     "output_type": "execute_result"
    }
   ],
   "source": [
    "# Telle språk og antall land som har språket som offisielt språk\n",
    "språk_antall = {}\n",
    "\n",
    "for land in land_info:\n",
    "    print(land['språk'])\n",
    "\n",
    "    # Lag en oppgave som går igjennom hvert lands språk og printer språket\n",
    "    for språk in land ['språk']:\n",
    "        if språk in språk_antall:\n",
    "            språk_antall[språk] += 1\n",
    "        else:\n",
    "            språk_antall[språk] = 1\n",
    "\n",
    "språk_antall # Printer språk_antall. trenger ikke skrive print i jupyter-notebook (gjelder bare siste linje)"
   ]
  },
  {
   "cell_type": "markdown",
   "metadata": {},
   "source": [
    "## Sortere ordbøker\n",
    "\n",
    "- [it2.thorcc.no - Sortere ordbøker med verdier](https://it2.thorcc.no/databehandling-og-algoritmer/lokker-lister-og-ordboker#sortering-av-ordb%C3%B8ker-med-verdier)\n"
   ]
  },
  {
   "cell_type": "code",
   "execution_count": 73,
   "metadata": {},
   "outputs": [
    {
     "name": "stdout",
     "output_type": "stream",
     "text": [
      "Språket som er offisielt språk i flest land er Engelsk (10) land\n"
     ]
    }
   ],
   "source": [
    "språk_liste = list(språk_antall.items()) # Lager en liste med innholdet i ordboken\n",
    "\n",
    "språk_liste_sortert = sorted(språk_liste, key=lambda språk:språk[1], reverse=True)\n",
    "språk_flest = språk_liste_sortert[0][0]\n",
    "språk_flest_antall = språk_liste_sortert[0][1]\n",
    "print (f\"Språket som er offisielt språk i flest land er {språk_flest} ({språk_flest_antall}) land\")\n"
   ]
  },
  {
   "cell_type": "markdown",
   "metadata": {},
   "source": [
    "## Plotting\n",
    "\n",
    "- [it2.thorcc.no - Plotting](https://it2.thorcc.no/databehandling-og-algoritmer/plotting)"
   ]
  },
  {
   "cell_type": "code",
   "execution_count": 74,
   "metadata": {},
   "outputs": [
    {
     "data": {
      "text/plain": [
       "Text(0, 0.5, 'y-verdier')"
      ]
     },
     "execution_count": 74,
     "metadata": {},
     "output_type": "execute_result"
    },
    {
     "data": {
      "image/png": "[encoded data removed]",
      "text/plain": [
       "<Figure size 640x480 with 1 Axes>"
      ]
     },
     "metadata": {},
     "output_type": "display_data"
    }
   ],
   "source": [
    "# Et eksempelplot\n",
    "\n",
    "import matplotlib.pyplot as plt\n",
    "from matplotlib import pyplot as pyplot\n",
    "\n",
    "plt.plot([1,2,3,4], [1, 4, 9, 16], marker=\"o\", linestyle=\":\", color=\"r\") # tegner et linjediagram\n",
    "plt.plot([1, 2, 3, 4], [1, 8, 27, 64]) # tegner enda en linje i diagrammet\n",
    "# plt.plot(liste_med_x_verdier, liste_med_y_verdier)\n",
    "plt.axis([0, 10, 0, 20])\n",
    "# plt.axis[start_x, slutt_x, start_y, slutt_y])\n",
    "plt.title(\"noen tall\") # tittel\n",
    "plt.xlabel(\"x-verdier\") # tekst på y-verdi område\n",
    "plt.ylabel(\"y-verdier\") # tekst på x-verdi område"
   ]
  },
  {
   "cell_type": "code",
   "execution_count": 93,
   "metadata": {},
   "outputs": [
    {
     "data": {
      "text/plain": [
       "<BarContainer object of 5 artists>"
      ]
     },
     "execution_count": 93,
     "metadata": {},
     "output_type": "execute_result"
    },
    {
     "data": {
      "image/png": "[encoded data removed]",
      "text/plain": [
       "<Figure size 640x480 with 1 Axes>"
      ]
     },
     "metadata": {},
     "output_type": "display_data"
    }
   ],
   "source": [
    "# plot av språk og antall land\n",
    "\n",
    "språk = list(språk_antall.keys()) # Henter ut alle nøklene og lager en liste av de\n",
    "antall = list(språk_antall.values()) # Lager en liste over antall\n",
    "\n",
    "språk = språk[:5] # Henter ut de fem første språkene\n",
    "antall = antall[:5] # Henter ut de fem første antallene\n",
    "\n",
    "plt.bar(språk, antall) # Tegner et stolpediagram (plt.bar) med de fem første språkene i listene\n"
   ]
  },
  {
   "cell_type": "code",
   "execution_count": 96,
   "metadata": {},
   "outputs": [
    {
     "name": "stdout",
     "output_type": "stream",
     "text": [
      "['britisk', 'spansk', 'tysk', 'fransk', 'canadisk']\n",
      "[3, 2, 2, 2, 2]\n"
     ]
    },
    {
     "data": {
      "text/plain": [
       "<BarContainer object of 5 artists>"
      ]
     },
     "execution_count": 96,
     "metadata": {},
     "output_type": "execute_result"
    },
    {
     "data": {
      "image/png": "[encoded data removed]",
      "text/plain": [
       "<Figure size 640x480 with 1 Axes>"
      ]
     },
     "metadata": {},
     "output_type": "display_data"
    }
   ],
   "source": [
    "nasjon = list(antall_nasjonaliteter.items())\n",
    "nasjon_sortert = sorted(nasjon, key=lambda nasjonalitet:nasjonalitet[1], reverse=True)\n",
    "nasjon_ordbok = dict(nasjon_sortert)\n",
    "nasjonalitet = list(nasjon_ordbok.keys())\n",
    "antall = list(nasjon_ordbok.values())\n",
    "nasjonalitet = nasjonalitet[:5]\n",
    "antall = antall[:5]\n",
    "print(nasjonalitet)\n",
    "print(antall)\n",
    "\n",
    "plt.bar(nasjonalitet, antall)\n"
   ]
  },
  {
   "cell_type": "code",
   "execution_count": null,
   "metadata": {},
   "outputs": [],
   "source": []
  },
  {
   "cell_type": "markdown",
   "metadata": {},
   "source": [
    "## Presentere data på nettsider med Flask\n",
    "\n",
    "### Eksempel 1: Nettside med Formel 1-sjåfører\n",
    "\n",
    "- fil: `formel1.py`\n",
    "- data: Formel 1-sjåfører\n",
    "\n",
    "### Eksempel 2: Værapp\n",
    "\n",
    "- fil: `vaerapp.py`\n",
    "- data: https://wttr.in/sandvika?format=j1"
   ]
  }
 ],
 "metadata": {
  "kernelspec": {
   "display_name": "Python 3",
   "language": "python",
   "name": "python3"
  },
  "language_info": {
   "codemirror_mode": {
    "name": "ipython",
    "version": 3
   },
   "file_extension": ".py",
   "mimetype": "text/x-python",
   "name": "python",
   "nbconvert_exporter": "python",
   "pygments_lexer": "ipython3",
   "version": "3.9.6"
  }
 },
 "nbformat": 4,
 "nbformat_minor": 2
}
