{
 "cells": [
  {
   "cell_type": "code",
   "execution_count": 3,
   "metadata": {},
   "outputs": [
    {
     "name": "stdout",
     "output_type": "stream",
     "text": [
      "Hello, world\n"
     ]
    }
   ],
   "source": [
    "# while løkker brukt for å telle\n",
    "print(\"Hello, world\") \n",
    "test = 123\n",
    "teller = 10\n",
    "while teller > 0:\n",
    "    print(teller)\n",
    "    teller -= 1\n",
    "\n",
    "\n",
    "# Tell alle partall fra 2 til 20:\n",
    "teller = 2\n",
    "while teller <= 20:\n",
    "    print(teller)\n",
    "    teller += 2\n",
    "\n",
    "\n",
    "# For-løkker\n",
    "# brukes for å gå gjenno en sekvens, en samling med *ting* f.eks en liste med tall, eller en ordbok med nøkler\n",
    "for tall in [1, 2, 3, 4, 5, 6, 7, 8, 9 , 10]:\n",
    "    print(tall)\n",
    "\n",
    "for bokstav in \"Ja, vi elsker\":\n",
    "    print(bokstav)\n",
    "    "
   ]
  },
  {
   "cell_type": "code",
   "execution_count": 5,
   "metadata": {},
   "outputs": [
    {
     "name": "stdout",
     "output_type": "stream",
     "text": [
      "123\n"
     ]
    }
   ],
   "source": [
    "print(test)"
   ]
  },
  {
   "cell_type": "code",
   "execution_count": 6,
   "metadata": {},
   "outputs": [
    {
     "ename": "SyntaxError",
     "evalue": "closing parenthesis '}' does not match opening parenthesis '(' (650597190.py, line 31)",
     "output_type": "error",
     "traceback": [
      "\u001b[0;36m  Cell \u001b[0;32mIn[6], line 31\u001b[0;36m\u001b[0m\n\u001b[0;31m    print(f\"{fag[tall]}: {karakterer[tall]\"})\u001b[0m\n\u001b[0m                                           ^\u001b[0m\n\u001b[0;31mSyntaxError\u001b[0m\u001b[0;31m:\u001b[0m closing parenthesis '}' does not match opening parenthesis '('\n"
     ]
    }
   ],
   "source": [
    "# ragne\n",
    "# range(startt, slutt_før, steg),  er en innebygd funksjon som gir oss en sekvens med tall som vi kan bruke i for-løkker\n",
    "\n",
    "for tall in [1, 2, 3]:\n",
    "    print(tall)\n",
    "\n",
    "for tall in range(1, 4, 1): #for hvert tall i sekvensen som starter på 1, slutter før 4, oh øker med 1\n",
    "    print (tall)\n",
    "\n",
    "\n",
    "# eksperttips: hvis vi starter på 0, trenger vi ikke skrive start-argument\n",
    "#              hvis vi skal øke med 1, trenger vi ikke skrive steg-argument\n",
    "    \n",
    "\n",
    "# for-løkke som printer tallene fra 0 til 7\n",
    "for tall in range (8):\n",
    "    print(tall)\n",
    "\n",
    "# for-løkke som printer tallene fra 10 til 1\n",
    "for tall in range (10, 0, -1):\n",
    "    print(tall)\n",
    "\n",
    "\n",
    "\n",
    "\n",
    "\n",
    "fag = [\"IT1\", \"IT2\", \"1T\", \"R1\", \"R2\"]\n",
    "karakterer = [6, 6, 4, 5, 4]\n",
    "\n",
    "for tall in range(len(fag)):\n",
    "    print(f\"{fag[tall]}: {karakterer[tall]\"})\n"
   ]
  },
  {
   "cell_type": "code",
   "execution_count": 10,
   "metadata": {},
   "outputs": [
    {
     "name": "stdout",
     "output_type": "stream",
     "text": [
      "Mattelærer\n",
      "favorittall\n",
      "\n",
      "Nøkler\n",
      "navn\n",
      "alder\n",
      "yrke\n",
      "favorittaktivitet\n",
      "favorittdrikk\n",
      "123\n"
     ]
    }
   ],
   "source": [
    "ravi = {\n",
    "    \"navn\": \"David Ravi\",\n",
    "    \"alder\": 43,\n",
    "    \"yrke\": \"Mattelærer\",\n",
    "    \"favorittaktivitet\": \"gaming\",\n",
    "    \"favorittdrikk\": \"databrus\",\n",
    "    123: \"favorittall\" # Vi kan også bruke andre typer nøkler i en ordbok\n",
    "    # nøkkel: verdi\n",
    "}\n",
    "\n",
    "print(ravi[\"yrke\"])\n",
    "print(ravi[123])\n",
    "\n",
    "print()\n",
    "print(\"Nøkler\")\n",
    "# Variabelen som opprettes i en for-løkke som går gjennom en ordbok vil etter tur ha verdiene til nøklene i ordboken\n",
    "for nøkkel in ravi:\n",
    "    print(nøkkel, ravi[nøkkel])\n",
    "\n",
    "# Alternativt kan vi bruke .items() og to variabler for å gå gjennom alt innholdet i en ordbok\n",
    "for nøkkel, verdi in ravi.items():\n",
    "    print(nøkkel, verdi)"
   ]
  },
  {
   "cell_type": "code",
   "execution_count": null,
   "metadata": {},
   "outputs": [],
   "source": []
  }
 ],
 "metadata": {
  "kernelspec": {
   "display_name": "Python 3",
   "language": "python",
   "name": "python3"
  },
  "language_info": {
   "codemirror_mode": {
    "name": "ipython",
    "version": 3
   },
   "file_extension": ".py",
   "mimetype": "text/x-python",
   "name": "python",
   "nbconvert_exporter": "python",
   "pygments_lexer": "ipython3",
   "version": "3.9.6"
  },
  "orig_nbformat": 4
 },
 "nbformat": 4,
 "nbformat_minor": 2
}
