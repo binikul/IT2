{
 "cells": [
  {
   "cell_type": "code",
   "execution_count": 40,
   "metadata": {},
   "outputs": [
    {
     "ename": "NotADirectoryError",
     "evalue": "[Errno 20] Not a directory: './algoritmer/algoritmer/spotify-weekly-top-songs-global-uke2-2023.json/'",
     "output_type": "error",
     "traceback": [
      "\u001b[0;31m---------------------------------------------------------------------------\u001b[0m",
      "\u001b[0;31mNotADirectoryError\u001b[0m                        Traceback (most recent call last)",
      "Cell \u001b[0;32mIn[40], line 3\u001b[0m\n\u001b[1;32m      1\u001b[0m \u001b[39m# Oppgave 1\u001b[39;00m\n\u001b[1;32m      2\u001b[0m \u001b[39mimport\u001b[39;00m \u001b[39mjson\u001b[39;00m\n\u001b[0;32m----> 3\u001b[0m fil \u001b[39m=\u001b[39m \u001b[39mopen\u001b[39;49m(\u001b[39m\"\u001b[39;49m\u001b[39m./algoritmer/algoritmer/spotify-weekly-top-songs-global-uke2-2023.json/\u001b[39;49m\u001b[39m\"\u001b[39;49m)\n\u001b[1;32m      4\u001b[0m data \u001b[39m=\u001b[39m json\u001b[39m.\u001b[39mload(fil)\n\u001b[1;32m      6\u001b[0m \u001b[39m# 1\u001b[39;00m\n",
      "File \u001b[0;32m~/Library/Python/3.9/lib/python/site-packages/IPython/core/interactiveshell.py:310\u001b[0m, in \u001b[0;36m_modified_open\u001b[0;34m(file, *args, **kwargs)\u001b[0m\n\u001b[1;32m    303\u001b[0m \u001b[39mif\u001b[39;00m file \u001b[39min\u001b[39;00m {\u001b[39m0\u001b[39m, \u001b[39m1\u001b[39m, \u001b[39m2\u001b[39m}:\n\u001b[1;32m    304\u001b[0m     \u001b[39mraise\u001b[39;00m \u001b[39mValueError\u001b[39;00m(\n\u001b[1;32m    305\u001b[0m         \u001b[39mf\u001b[39m\u001b[39m\"\u001b[39m\u001b[39mIPython won\u001b[39m\u001b[39m'\u001b[39m\u001b[39mt let you open fd=\u001b[39m\u001b[39m{\u001b[39;00mfile\u001b[39m}\u001b[39;00m\u001b[39m by default \u001b[39m\u001b[39m\"\u001b[39m\n\u001b[1;32m    306\u001b[0m         \u001b[39m\"\u001b[39m\u001b[39mas it is likely to crash IPython. If you know what you are doing, \u001b[39m\u001b[39m\"\u001b[39m\n\u001b[1;32m    307\u001b[0m         \u001b[39m\"\u001b[39m\u001b[39myou can use builtins\u001b[39m\u001b[39m'\u001b[39m\u001b[39m open.\u001b[39m\u001b[39m\"\u001b[39m\n\u001b[1;32m    308\u001b[0m     )\n\u001b[0;32m--> 310\u001b[0m \u001b[39mreturn\u001b[39;00m io_open(file, \u001b[39m*\u001b[39;49margs, \u001b[39m*\u001b[39;49m\u001b[39m*\u001b[39;49mkwargs)\n",
      "\u001b[0;31mNotADirectoryError\u001b[0m: [Errno 20] Not a directory: './algoritmer/algoritmer/spotify-weekly-top-songs-global-uke2-2023.json/'"
     ]
    }
   ],
   "source": [
    "# Oppgave 1\n",
    "import json\n",
    "fil = open(\"./algoritmer/algoritmer/spotify-weekly-top-songs-global-uke2-2023.json/\")\n",
    "data = json.load(fil)\n",
    "\n",
    "# 1\n",
    "høyest = data[0][\"uker_paa_listen\"]\n",
    "høyest_sang = data[0][\"navn\"]\n",
    "for sang in data:\n",
    "    if sang[\"uker_paa_listen\"] > høyest:\n",
    "            høyest = sang[\"uker_paa_listen\"]\n",
    "            høyest_sang = sang[\"navn\"]\n",
    "print(høyest_sang, høyest)\n",
    "\n",
    "\n",
    "# 2\n",
    "total = 0\n",
    "for sang in data:\n",
    "    if sang[\"artist\"] == \"Taylor Swift\":\n",
    "        total += sang[\"antall_streams\"]\n",
    "print(f\"Taylor Swift har totalt {total} antall streams\")\n",
    "\n",
    "\n",
    "# 3 \n",
    "plassering = 0\n",
    "for sang in data:\n",
    "    plassering_endring = sang[\"forrige_plassering\"] - sang[\"plassering\"]\n",
    "    if plassering_endring > plassering:\n",
    "        plassering = plassering_endring\n",
    "        gikk_opp_flest_sang = sang\n",
    "\n"
   ]
  },
  {
   "cell_type": "code",
   "execution_count": 35,
   "metadata": {},
   "outputs": [],
   "source": [
    "# Filinnlesing\n",
    "import json\n",
    "fil = open(\"./algoritmer/algoritmer/imdb_top250.json\", encoding=\"utf-8\")\n",
    "data = json.load(fil)\n",
    "fil.close()\n"
   ]
  },
  {
   "cell_type": "code",
   "execution_count": 9,
   "metadata": {},
   "outputs": [
    {
     "data": {
      "text/plain": [
       "{'navn': 'Yôjinbô',\n",
       " 'bilde': 'https://m.media-amazon.com/images/M/MV5BZThiZjAzZjgtNDU3MC00YThhLThjYWUtZGRkYjc2ZWZlOTVjXkEyXkFqcGdeQXVyNTA4NzY1MzY@._V1_.jpg',\n",
       " 'sjangere': ['Action', 'Drama', 'Thriller'],\n",
       " 'url': 'https://www.imdb.com//title/tt0055630/',\n",
       " 'beskrivelse': 'A crafty ronin comes to a town divided by two criminal gangs and decides to play them against each other to free the town.',\n",
       " 'dato': '1961-09-13',\n",
       " 'regissører': ['Akira Kurosawa'],\n",
       " 'trailer': 'https://www.imdb.com/video/imdb/vi1659814169/imdb/embed?autoplay=false&width=640',\n",
       " 'karakter': 8.2}"
      ]
     },
     "execution_count": 9,
     "metadata": {},
     "output_type": "execute_result"
    }
   ],
   "source": [
    "filmer[0]"
   ]
  },
  {
   "cell_type": "code",
   "execution_count": 36,
   "metadata": {},
   "outputs": [
    {
     "name": "stdout",
     "output_type": "stream",
     "text": [
      "Øverst på listen: Yôjinbô, Regissert av: Akira Kurosawa\n",
      "Gjennomsnittskarakteren til alle filmene:  8.32199999999999\n",
      "Gjennomsnittskarakteren til de ti første filmene:  8.290000000000001\n"
     ]
    }
   ],
   "source": [
    "# Oppgave 2\n",
    "        \n",
    "# 1\n",
    "øverst_på_listen = data[0]\n",
    "øverst_navn = øverst_på_listen[\"navn\"]\n",
    "øverst_regissør = øverst_på_listen[\"regissører\"][0]\n",
    "print(f\"Øverst på listen: {øverst_navn}, Regissert av: {øverst_regissør}\")\n",
    "\n",
    "\n",
    "# 2\n",
    "gjennomsnitt_totalt = sum(film[\"karakter\"] for film in data) / len(data)\n",
    "print(\"Gjennomsnittskarakteren til alle filmene: \", gjennomsnitt_totalt)\n",
    "\n",
    "\n",
    "# 3\n",
    "gjennomsnitt_ti_første = sum(film[\"karakter\"] for film in data[:10]) / 10\n",
    " \n",
    "print(\"Gjennomsnittskarakteren til de ti første filmene: \", gjennomsnitt_ti_første)"
   ]
  },
  {
   "cell_type": "code",
   "execution_count": null,
   "metadata": {},
   "outputs": [],
   "source": [
    "ti_ \n",
    "\n",
    "for film in ti_første:\n",
    "    total_karakter_ti_første += film ['karakter']"
   ]
  }
 ],
 "metadata": {
  "kernelspec": {
   "display_name": "Python 3",
   "language": "python",
   "name": "python3"
  },
  "language_info": {
   "codemirror_mode": {
    "name": "ipython",
    "version": 3
   },
   "file_extension": ".py",
   "mimetype": "text/x-python",
   "name": "python",
   "nbconvert_exporter": "python",
   "pygments_lexer": "ipython3",
   "version": "3.9.6"
  },
  "orig_nbformat": 4
 },
 "nbformat": 4,
 "nbformat_minor": 2
}
