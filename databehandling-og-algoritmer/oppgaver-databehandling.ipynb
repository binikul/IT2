{
 "cells": [
  {
   "cell_type": "code",
   "execution_count": 1,
   "metadata": {},
   "outputs": [
    {
     "ename": "NameError",
     "evalue": "name 'data' is not defined",
     "output_type": "error",
     "traceback": [
      "\u001b[0;31m---------------------------------------------------------------------------\u001b[0m",
      "\u001b[0;31mNameError\u001b[0m                                 Traceback (most recent call last)",
      "Cell \u001b[0;32mIn[1], line 4\u001b[0m\n\u001b[1;32m      1\u001b[0m \u001b[39m# Oppgave 1\u001b[39;00m\n\u001b[1;32m      2\u001b[0m \n\u001b[1;32m      3\u001b[0m \u001b[39m# 1\u001b[39;00m\n\u001b[0;32m----> 4\u001b[0m høyest \u001b[39m=\u001b[39m data[\u001b[39m0\u001b[39m][\u001b[39m\"\u001b[39m\u001b[39muker_paa_listen\u001b[39m\u001b[39m\"\u001b[39m]\n\u001b[1;32m      5\u001b[0m høyest_sang \u001b[39m=\u001b[39m data[\u001b[39m0\u001b[39m][\u001b[39m\"\u001b[39m\u001b[39mnavn\u001b[39m\u001b[39m\"\u001b[39m]\n\u001b[1;32m      6\u001b[0m \u001b[39mfor\u001b[39;00m sang \u001b[39min\u001b[39;00m data:\n",
      "\u001b[0;31mNameError\u001b[0m: name 'data' is not defined"
     ]
    }
   ],
   "source": [
    "# Oppgave 1\n",
    "\n",
    "# 1\n",
    "høyest = data[0][\"uker_paa_listen\"]\n",
    "høyest_sang = data[0][\"navn\"]\n",
    "for sang in data:\n",
    "    if sang[\"uker_paa_listen\"] > høyest:\n",
    "            høyest = sang[\"uker_paa_listen\"]\n",
    "            høyest_sang = sang[\"navn\"]\n",
    "print(høyest_sang, høyest)\n",
    "\n",
    "\n",
    "# 2\n",
    "total = 0\n",
    "for sang in data:\n",
    "    if sang[\"artist\"] == \"Taylor Swift\":\n",
    "        total += sang[\"antall_streams\"]\n",
    "print(f\"Taylor Swift har totalt {total} antall streams\")\n",
    "\n",
    "\n",
    "# 3 \n",
    "plassering = 0\n",
    "for sang in data:\n",
    "    plassering_endring = sang[\"forrige_plassering\"] - sang[\"plassering\"]\n",
    "    if plassering_endring > plassering:\n",
    "        plassering = plassering_endring\n",
    "        gikk_opp_flest_sang = sang\n",
    "\n",
    "\n",
    "\n",
    "\n",
    "\n",
    "# Oppgave 2\n",
    "        \n",
    "# 1\n",
    "øverst_på_listen = data[0]\n",
    "øverst_navn = øverst_på_listen[\"navn\"]\n",
    "øverst_regissør = øverst_på_listen[\"regissører\"][0]\n",
    "print(f\"Øverst på listen: {øverst_navn}, Regissert av: {øverst_regissør}\")\n",
    "\n",
    "\n",
    "# 2\n",
    "gjennomsnitt_totalt = sum(film[\"karakter\"] for film in data) / len(data)\n",
    "print(\"Gjennomsnittskarakteren til alle filmene: \" gjennomsnitt_totalt)\n",
    "\n",
    "\n",
    "# 3\n",
    "gjennomsnitt_ti_første = sum(film[\"karakter\"] for film in data[:10]) / 10\n",
    " \n",
    "print(\"Gjennomsnittskarakteren til de ti første filmene: \" gjennomsnitt_ti_første)\n",
    "\n",
    "\n",
    "\n"
   ]
  }
 ],
 "metadata": {
  "kernelspec": {
   "display_name": "Python 3",
   "language": "python",
   "name": "python3"
  },
  "language_info": {
   "codemirror_mode": {
    "name": "ipython",
    "version": 3
   },
   "file_extension": ".py",
   "mimetype": "text/x-python",
   "name": "python",
   "nbconvert_exporter": "python",
   "pygments_lexer": "ipython3",
   "version": "3.9.6"
  },
  "orig_nbformat": 4
 },
 "nbformat": 4,
 "nbformat_minor": 2
}
